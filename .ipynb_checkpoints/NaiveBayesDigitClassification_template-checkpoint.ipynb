{
 "cells": [
  {
   "cell_type": "code",
   "execution_count": 1,
   "metadata": {},
   "outputs": [],
   "source": [
    "# in readData you should read all digits from the file provided by using the f.readlines() function where f is the filename\n",
    "# handle. Use with open(filename, 'r') as f:\n",
    "# return a list \"data\" the output of f.readlines\n",
    "def readData(filename):\n",
    "    return filename.readlines()"
   ]
  },
  {
   "cell_type": "markdown",
   "metadata": {},
   "source": [
    "call readData function for \"trainingimages.txt\" and \"testimages.txt\" and store the output."
   ]
  },
  {
   "cell_type": "code",
   "execution_count": 4,
   "metadata": {},
   "outputs": [],
   "source": [
    "###\n",
    "#enter code here\n",
    "\n",
    "###\n",
    "\n",
    "trainingimages = readData(trainingimages.txt)\n",
    "testimages = readData(testimages.txt)"
   ]
  },
  {
   "cell_type": "markdown",
   "metadata": {},
   "source": [
    "Create a function that computes the frequency of each pixel being dark for every number. "
   ]
  },
  {
   "cell_type": "code",
   "execution_count": 5,
   "metadata": {},
   "outputs": [],
   "source": [
    "def compute_pixel_probabilities(images, labels):\n",
    "    # separate each image. Maintain a 3 level list frequency_dark[i][j][k] = number of times the i,j pixel was dark \n",
    "    # for the number k (0-9). To obtain this, each time number k shows up in training, add 1 to all the dark pixel locations i,j\n",
    "    # Leave the white pixels at their value. Keep track of the number of times a number k shows up as you will need to divide \n",
    "    # frequency_dar by total number of occurences Nk of the number k, to obtain the probability of pixels being dark. Do not divide yet\n",
    "    # just return both frequency_dark and Nk from this function\n",
    "    frequency_dark = [[[0 for i in range(28)] for j in range(28)] for k in range(10)]\n",
    "    Number_count = [0 for i in range(10)] # list of zeros keeping count of how many times a number has occured\n",
    "    \n",
    "    ###\n",
    "    # hint: for each image in images, iterate over its 28 rows and 28 columns and whenever the pixel is '+' or '#', increment\n",
    "    # frequency_dark by 1 at the appropriate index. Remember frequency_dark has valid indices [0:10][0:28][0:28] in that order.\n",
    "    #\n",
    "    #  enter your code here \n",
    "    ###\n",
    "    \n",
    "    return frequency_dark, Number_count"
   ]
  },
  {
   "cell_type": "markdown",
   "metadata": {},
   "source": [
    "call compute_pixel_probabilities on training_images and training_labels"
   ]
  },
  {
   "cell_type": "code",
   "execution_count": 6,
   "metadata": {},
   "outputs": [],
   "source": [
    "# your code here"
   ]
  },
  {
   "cell_type": "markdown",
   "metadata": {},
   "source": [
    "call readData function on testimages.txt"
   ]
  },
  {
   "cell_type": "code",
   "execution_count": 7,
   "metadata": {},
   "outputs": [],
   "source": [
    "# your code here"
   ]
  },
  {
   "cell_type": "markdown",
   "metadata": {},
   "source": [
    "Define a function testimage_to_pixelvalues that returns a 3 dimensional list with 0/1 where the pixel is white/black."
   ]
  },
  {
   "cell_type": "code",
   "execution_count": 8,
   "metadata": {},
   "outputs": [],
   "source": [
    "def testimage_to_pixelvalues(images):\n",
    "    num_images = int(len(images)/28)\n",
    "    testimage_values = [[[0 for i in range(28)] for j in range(28)] for n in range(num_images)]\n",
    "    #your code here\n",
    "    \n",
    "    return testimage_values"
   ]
  },
  {
   "cell_type": "markdown",
   "metadata": {},
   "source": [
    "Call testimage_to_pixelvalues on the read testimagesData"
   ]
  },
  {
   "cell_type": "code",
   "execution_count": 9,
   "metadata": {},
   "outputs": [],
   "source": [
    "#code here"
   ]
  },
  {
   "cell_type": "markdown",
   "metadata": {},
   "source": [
    "Create a function run_naive_bayes that runs the naive bayes Machine learning algorithm and outputs the predicted class of test data"
   ]
  },
  {
   "cell_type": "code",
   "execution_count": 10,
   "metadata": {},
   "outputs": [],
   "source": [
    "from math import log\n",
    "def run_naive_bayes(frequency_dark, num_count, testimage_values):\n",
    "    num_images = len(testimage_values)\n",
    "    Logprob = [] # a 2D list of log probabilities for each image and for each possible class\n",
    "    Predictions = [] #keep adding predicted indices here\n",
    "    for n in range(0,num_images):\n",
    "        ClassprobPerImage = []\n",
    "        max_log=-1000000 # a LAAARGE initial value to max_log\n",
    "        indx=-1 # index of the class with the maximum Log-prob\n",
    "        \n",
    "        # your code here\n",
    "        #\n",
    "        # hint: for each class k, iterate over the pixel values in frequency_dark matrix\n",
    "        # keep adding log of frequency/Ntotal to a variable. At the end choose the class with the minimum sum of log probabilities\n",
    "        #\n",
    "        #\n",
    "    return Logprob, Predictions"
   ]
  },
  {
   "cell_type": "markdown",
   "metadata": {},
   "source": [
    "call run_naive_bayes function with the appropriate inputs"
   ]
  },
  {
   "cell_type": "code",
   "execution_count": 11,
   "metadata": {},
   "outputs": [],
   "source": [
    "#your code here"
   ]
  },
  {
   "cell_type": "markdown",
   "metadata": {},
   "source": [
    "readData from testlabels.txt and convert them to integer labels then output how much percentage of labels match with Predictions array"
   ]
  },
  {
   "cell_type": "code",
   "execution_count": null,
   "metadata": {},
   "outputs": [],
   "source": [
    "#your code here"
   ]
  }
 ],
 "metadata": {
  "kernelspec": {
   "display_name": "Python 3.6",
   "language": "python",
   "name": "python36"
  },
  "language_info": {
   "codemirror_mode": {
    "name": "ipython",
    "version": 3
   },
   "file_extension": ".py",
   "mimetype": "text/x-python",
   "name": "python",
   "nbconvert_exporter": "python",
   "pygments_lexer": "ipython3",
   "version": "3.6.3"
  }
 },
 "nbformat": 4,
 "nbformat_minor": 2
}
