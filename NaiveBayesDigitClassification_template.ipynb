{
 "cells": [
  {
   "cell_type": "code",
   "execution_count": 1,
   "metadata": {},
   "outputs": [],
   "source": [
    "# in readData you should read all digits from the file provided by using the f.readlines() function where f is the filename\n",
    "# handle. Use with open(filename, 'r') as f:\n",
    "# return a list \"data\" the output of f.readlines\n",
    "import os\n",
    "\n",
    "def readData(filename):\n",
    "    f = open(filename, 'r')\n",
    "    if f.mode == 'r':\n",
    "        contents = f.read()\n",
    "\n",
    "        print (contents)\n",
    "        #for x in contents:\n",
    "        #split = contents.partition('\\n' * 5)\n",
    "        #for line in split:\n",
    "        \n",
    "            #print (\"Empty Line\")\n",
    "            #print (split)\n",
    "#readData(\"testimages.txt\")\n"
   ]
  },
  {
   "cell_type": "code",
   "execution_count": null,
   "metadata": {},
   "outputs": [],
   "source": []
  },
  {
   "cell_type": "markdown",
   "metadata": {},
   "source": [
    "call readData function for \"trainingimages.txt\" and \"testimages.txt\" and store the output."
   ]
  },
  {
   "cell_type": "code",
   "execution_count": 71,
   "metadata": {},
   "outputs": [],
   "source": [
    "#readData(\"testimages.txt\")\n",
    "\n",
    "\n",
    "#readData(\"trainingimages.txt\")"
   ]
  },
  {
   "cell_type": "markdown",
   "metadata": {},
   "source": [
    "Create a function that computes the frequency of each pixel being dark for every number. "
   ]
  },
  {
   "cell_type": "code",
   "execution_count": 10,
   "metadata": {},
   "outputs": [
    {
     "name": "stdout",
     "output_type": "stream",
     "text": [
      "0000000000000000000000000000\n",
      "28000\n",
      "1000\n",
      "1-1000: 1\n",
      "\n",
      "\n",
      "['0', '0', '0', '0', '0', '0', '0', '0', '0', '0', '0', '0', '0', '0', '0', '0', '0', '0', '0', '0', '0', '0', '0', '0', '0', '0', '0', '0']\n",
      "\n",
      "\n",
      "0000000000000000000000000000\n",
      "0000000000000000000000000000\n",
      "0000000000000000000000000000\n",
      "0000000000000000000000000000\n",
      "0000000000000000000000000000\n",
      "0000000000000000000000000000\n",
      "0000000000000000000000000000\n",
      "0000000000000111111000000000\n",
      "0000000000000111111100000000\n",
      "0000000000001111111100000000\n",
      "0000000000001111111100000000\n",
      "0000000000011100111100000000\n",
      "0000000000011111111100000000\n",
      "0000000000011111111100000000\n",
      "0000000000011111111100000000\n",
      "0000000000001111111000000000\n",
      "0000000000000011111000000000\n",
      "0000000000000011110000000000\n",
      "0000000000000011110000000000\n",
      "0000000000001111100000000000\n",
      "0000000000001111000000000000\n",
      "0000000000011110000000000000\n",
      "0000000000111100000000000000\n",
      "0000000001111000000000000000\n",
      "0000000001110000000000000000\n",
      "0000000011100000000000000000\n",
      "0000000011100000000000000000\n",
      "\n",
      "\n",
      "\n"
     ]
    }
   ],
   "source": [
    "import re\n",
    "\n",
    "\n",
    "def compute_pixel_probabilities(images, labels):\n",
    "    f = open(images, 'r')\n",
    "    if f.mode == 'r':\n",
    "        number = f.readlines()\n",
    "        linex = (''.join(number))\n",
    "        linex = linex.replace('#','1')\n",
    "        linex = linex.replace('+','1')\n",
    "        linex = linex.replace(' ','0')\n",
    "        print (linex[0:28])\n",
    "        \n",
    "        print (len(number))\n",
    "        numbers = ((len(number)) / 28)\n",
    "        print (int(numbers))\n",
    "        lmao = int(numbers) +1\n",
    "        \n",
    "        inputx = int(input('1-1000: ')) +1\n",
    "        \n",
    "        print ('\\n')\n",
    "        \n",
    "        lw = []\n",
    "        lx = []\n",
    "        #for p in range(1, lmao):\n",
    "        for p in range(1, inputx):    \n",
    "            #q = float(p)\n",
    "            r1= ((p-1)*28*28)\n",
    "            r2= p*28*28 -p\n",
    "            lines = linex[r1:r2]\n",
    "            \n",
    "            for e in lines:    \n",
    "                for l in lines:\n",
    "                    q= (p-1)*28\n",
    "                    w= p*28\n",
    "                    lx = lines[q:w]\n",
    "                    lx = list(lx)\n",
    "                lw.append(lx)\n",
    "            print (lw)    \n",
    "            print (lx)\n",
    "            print ('\\n')\n",
    "            print (lines)\n",
    "            \n",
    "            #linex = (''.join(lines))\n",
    "            #linex = linex.replace('#','1')\n",
    "            #linex = linex.replace('+','1')\n",
    "            #linex = linex.replace(' ','0')\n",
    "            \n",
    "            #pixel = [linex[0-56]]\n",
    "            #print (pixel)\n",
    "            \n",
    "            print ('\\n')\n",
    "            #print (linex)\n",
    "        \n",
    "    \n",
    "    #for i in images(range(28)):\n",
    "        #print ('1')\n",
    "    \n",
    "    # separate each image. Maintain a 3 level list frequency_dark[i][j][k] = number of times the i,j pixel was dark \n",
    "    # for the number k (0-9). To obtain this, each time number k shows up in training, add 1 to all the dark pixel locations i,j\n",
    "    # Leave the white pixels at their value. Keep track of the number of times a number k shows up as you will need to divide \n",
    "    # frequency_dar by total number of occurences Nk of the number k, to obtain the probability of pixels being dark. Do not divide yet\n",
    "    # just return both frequency_dark and Nk from this function\n",
    "    ##frequency_dark = [[[0 for i in range(28)] for j in range(28)] for k in range(10)]\n",
    "    ##Number_count = [0 for i in range(10)] # list of zeros keeping count of how many times a number has occured\n",
    "    \n",
    "    \n",
    "    ###\n",
    "    # hint: for each image in images, iterate over its 28 rows and 28 columns and whenever the pixel is '+' or '#', increment\n",
    "    # frequency_dark by 1 at the appropriate index. Remember frequency_dark has valid indices [0:10][0:28][0:28] in that order.\n",
    "    #\n",
    "    #  enter your code here \n",
    "    ###\n",
    "    ##return frequency_dark, Number_count\n",
    "\n",
    "compute_pixel_probabilities('testimages.txt', 'testlabels.txt')"
   ]
  },
  {
   "cell_type": "code",
   "execution_count": null,
   "metadata": {},
   "outputs": [],
   "source": []
  },
  {
   "cell_type": "markdown",
   "metadata": {},
   "source": [
    "call compute_pixel_probabilities on training_images and training_labels"
   ]
  },
  {
   "cell_type": "code",
   "execution_count": 6,
   "metadata": {},
   "outputs": [],
   "source": [
    "# your code here"
   ]
  },
  {
   "cell_type": "markdown",
   "metadata": {},
   "source": [
    "call readData function on testimages.txt"
   ]
  },
  {
   "cell_type": "code",
   "execution_count": 7,
   "metadata": {},
   "outputs": [],
   "source": [
    "# your code here"
   ]
  },
  {
   "cell_type": "markdown",
   "metadata": {},
   "source": [
    "Define a function testimage_to_pixelvalues that returns a 3 dimensional list with 0/1 where the pixel is white/black."
   ]
  },
  {
   "cell_type": "code",
   "execution_count": 30,
   "metadata": {},
   "outputs": [
    {
     "name": "stdout",
     "output_type": "stream",
     "text": [
      "[]\n"
     ]
    }
   ],
   "source": [
    "def testimage_to_pixelvalues(images):\n",
    "    num_images = int(len(images)/28)\n",
    "    testimage_values = [[[0 for i in range(28)] for j in range(28)] for n in range(num_images)]\n",
    "    #your code here\n",
    "    \n",
    "    return testimage_values\n",
    "print (testimage_to_pixelvalues(\"testimages.txt\"))"
   ]
  },
  {
   "cell_type": "markdown",
   "metadata": {},
   "source": [
    "Call testimage_to_pixelvalues on the read testimagesData"
   ]
  },
  {
   "cell_type": "code",
   "execution_count": 9,
   "metadata": {},
   "outputs": [],
   "source": [
    "#code here"
   ]
  },
  {
   "cell_type": "markdown",
   "metadata": {},
   "source": [
    "Create a function run_naive_bayes that runs the naive bayes Machine learning algorithm and outputs the predicted class of test data"
   ]
  },
  {
   "cell_type": "code",
   "execution_count": 10,
   "metadata": {},
   "outputs": [],
   "source": [
    "from math import log\n",
    "def run_naive_bayes(frequency_dark, num_count, testimage_values):\n",
    "    num_images = len(testimage_values)\n",
    "    Logprob = [] # a 2D list of log probabilities for each image and for each possible class\n",
    "    Predictions = [] #keep adding predicted indices here\n",
    "    for n in range(0,num_images):\n",
    "        ClassprobPerImage = []\n",
    "        max_log=-1000000 # a LAAARGE initial value to max_log\n",
    "        indx=-1 # index of the class with the maximum Log-prob\n",
    "        \n",
    "        # your code here\n",
    "        #\n",
    "        # hint: for each class k, iterate over the pixel values in frequency_dark matrix\n",
    "        # keep adding log of frequency/Ntotal to a variable. At the end choose the class with the minimum sum of log probabilities\n",
    "        #\n",
    "        #\n",
    "    return Logprob, Predictions"
   ]
  },
  {
   "cell_type": "markdown",
   "metadata": {},
   "source": [
    "call run_naive_bayes function with the appropriate inputs"
   ]
  },
  {
   "cell_type": "code",
   "execution_count": 11,
   "metadata": {},
   "outputs": [],
   "source": [
    "#your code here"
   ]
  },
  {
   "cell_type": "markdown",
   "metadata": {},
   "source": [
    "readData from testlabels.txt and convert them to integer labels then output how much percentage of labels match with Predictions array"
   ]
  },
  {
   "cell_type": "code",
   "execution_count": null,
   "metadata": {},
   "outputs": [],
   "source": [
    "#your code here"
   ]
  }
 ],
 "metadata": {
  "kernelspec": {
   "display_name": "Python 3.6",
   "language": "python",
   "name": "python36"
  },
  "language_info": {
   "codemirror_mode": {
    "name": "ipython",
    "version": 3
   },
   "file_extension": ".py",
   "mimetype": "text/x-python",
   "name": "python",
   "nbconvert_exporter": "python",
   "pygments_lexer": "ipython3",
   "version": "3.6.3"
  }
 },
 "nbformat": 4,
 "nbformat_minor": 2
}
