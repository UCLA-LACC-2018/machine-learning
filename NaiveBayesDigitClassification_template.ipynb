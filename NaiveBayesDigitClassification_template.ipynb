{
 "cells": [
  {
   "cell_type": "code",
   "execution_count": 27,
   "metadata": {},
   "outputs": [],
   "source": [
    "# in readData you should read all digits from the file provided by using the f.readlines() function where f is the filename\n",
    "# handle. Use with open(filename, 'r') as f:\n",
    "# return a list \"data\" the output of f.readlines\n",
    "def readData(filename):\n",
    "    return open(filename, 'r').readlines()"
   ]
  },
  {
   "cell_type": "markdown",
   "metadata": {},
   "source": [
    "call readData function for \"trainingimages.txt\" and \"testimages.txt\" and store the output."
   ]
  },
  {
   "cell_type": "code",
   "execution_count": 28,
   "metadata": {},
   "outputs": [],
   "source": [
    "###\n",
    "#enter code here\n",
    "trainingimages = readData(\"trainingimages.txt\")\n",
    "traininglabels = readData(\"traininglabels.txt\")\n",
    "\n",
    "###"
   ]
  },
  {
   "cell_type": "markdown",
   "metadata": {},
   "source": [
    "Create a function that computes the frequency of each pixel being dark for every number. "
   ]
  },
  {
   "cell_type": "code",
   "execution_count": 29,
   "metadata": {},
   "outputs": [],
   "source": [
    "def compute_pixel_probabilities(images, labels):\n",
    "    # separate each image. Maintain a 3 level list frequency_dark[i][j][k] = number of times the i,j pixel was dark \n",
    "    # for the number k (0-9). To obtain this, each time number k shows up in training, add 1 to all the dark pixel locations i,j\n",
    "    # Leave the white pixels at their value. Keep track of the number of times a number k shows up as you will need to divide \n",
    "    # frequency_dar by total number of occurences Nk of the number k, to obtain the probability of pixels being dark. Do not divide yet\n",
    "    # just return both frequency_dark and Nk from this function\n",
    "    frequency_dark = [[[0 for i in range(28)] for j in range(28)] for k in range(10)]\n",
    "    Number_count = [0 for i in range(10)] # list of zeros keeping count of how many times a number has occured\n",
    "    \n",
    "    count = 0\n",
    "\n",
    "    for i in range(len(images)) :\n",
    "        #print(labels[int(i / 28)])\n",
    "        for j in range(len(images[i])) :\n",
    "            if images[i][j] == \"+\" or images[i][j] == '#' :\n",
    "                frequency_dark[int(labels[int(i/28)])][i%28][j] += 1\n",
    "        if i % 28 ==0 :\n",
    "            Number_count[int(labels[count])] += 1\n",
    "            count+=1\n",
    "\n",
    "   \n",
    "    ###\n",
    "    # hint: for each image in images, iterate over its 28 rows and 28 columns and whenever the pixel is '+' or '#', increment\n",
    "    # frequency_dark by 1 at the appropriate index. Remember frequency_dark has valid indices [0:10][0:28][0:28] in that order.\n",
    "    #\n",
    "    #  enter your code here \n",
    "    ###\n",
    "    \n",
    "    return frequency_dark, Number_count"
   ]
  },
  {
   "cell_type": "markdown",
   "metadata": {},
   "source": [
    "call compute_pixel_probabilities on training_images and training_labels"
   ]
  },
  {
   "cell_type": "code",
   "execution_count": 30,
   "metadata": {},
   "outputs": [],
   "source": [
    "# your code here\n",
    "freq_dark, numcount = compute_pixel_probabilities(trainingimages, traininglabels)"
   ]
  },
  {
   "cell_type": "markdown",
   "metadata": {},
   "source": [
    "call readData function on testimages.txt"
   ]
  },
  {
   "cell_type": "code",
   "execution_count": 31,
   "metadata": {},
   "outputs": [],
   "source": [
    "# your code here\n",
    "testimages = readData(\"testimages.txt\")"
   ]
  },
  {
   "cell_type": "markdown",
   "metadata": {},
   "source": [
    "Define a function testimage_to_pixelvalues that returns a 3 dimensional list with 0/1 where the pixel is white/black."
   ]
  },
  {
   "cell_type": "code",
   "execution_count": 32,
   "metadata": {},
   "outputs": [],
   "source": [
    "def testimage_to_pixelvalues(images):\n",
    "    num_images = int(len(images)/28)\n",
    "    testimage_values = [[[0 for i in range(28)] for j in range(28)] for n in range(num_images)]\n",
    "    #your code here\n",
    "\n",
    "    for j in range(len(images)) :\n",
    "        #print(labels[int(i / 28)])\n",
    "        for k in range(28) :\n",
    "            if images[j][k] == \"+\" or images[j][k] == '#' :\n",
    "                testimage_values[int(j/28)][int(j%28)][k] = 1\n",
    "            else :\n",
    "                testimage_values[int(j/28)][int(j%28)][k] = 0\n",
    "\n",
    "    return testimage_values"
   ]
  },
  {
   "cell_type": "markdown",
   "metadata": {},
   "source": [
    "Call testimage_to_pixelvalues on the read testimagesData"
   ]
  },
  {
   "cell_type": "code",
   "execution_count": 33,
   "metadata": {},
   "outputs": [],
   "source": [
    "#code here\n",
    "tiv = testimage_to_pixelvalues(testimages)"
   ]
  },
  {
   "cell_type": "markdown",
   "metadata": {},
   "source": [
    "Create a function run_naive_bayes that runs the naive bayes Machine learning algorithm and outputs the predicted class of test data"
   ]
  },
  {
   "cell_type": "code",
   "execution_count": 34,
   "metadata": {},
   "outputs": [],
   "source": [
    "from math import log\n",
    "def run_naive_bayes(frequency_dark, num_count, testimage_values):\n",
    "    num_images = len(testimage_values)\n",
    "    Logprob = [] # a 2D list of log probabilities for each image and for each possible class\n",
    "    Predictions = [] #keep adding predicted indices here\n",
    "    for a in range(10) :\n",
    "        for b in range(28) :\n",
    "            for c in range(28) :\n",
    "                frequency_dark[a][b][c] = frequency_dark[a][b][c] / float(num_count[a])\n",
    "\n",
    "    for n in range(0,num_images):\n",
    "        ClassprobPerImage = [0,0,0,0,0,0,0,0,0,0]\n",
    "        max_log=-1000000 # a LAAARGE initial value to max_log\n",
    "        indx=-1 # index of the class with the maximum Log-prob\n",
    "        curtest = testimage_values[n]\n",
    "        #for g in curtest:\n",
    "        #    print(g)\n",
    "        #print(n)\n",
    "        for i in range(10) :\n",
    "            curclass=frequency_dark[i]\n",
    "            curprob = 0\n",
    "            for j in range(28):\n",
    "                for k in range(28):\n",
    "                    prob = frequency_dark[i][j][k]\n",
    "                    if curtest[j][k] == 0 :\n",
    "                        prob = 1 - prob\n",
    "                    lp =0\n",
    "                    if prob != 0 :\n",
    "                        lp = log(prob)\n",
    "                    ClassprobPerImage[i] += lp\n",
    "            curprob = ClassprobPerImage[i]\n",
    "            #print(curprob)\n",
    "            #ClassprobPerImage.append(curprob)\n",
    "            if ClassprobPerImage[i] > max_log :\n",
    "                max_log = ClassprobPerImage[i]\n",
    "                indx = i\n",
    "        Predictions.append(indx)\n",
    "        #print(str(indx))\n",
    "\n",
    "        # your code here\n",
    "        #\n",
    "        # hint: for each class k, iterate over the pixel values in frequency_dark matrix\n",
    "        # keep adding log of frequency/Ntotal to a variable. At the end choose the class with the minimum sum of log probabilities\n",
    "        #\n",
    "        #\n",
    "    return Logprob, Predictions"
   ]
  },
  {
   "cell_type": "markdown",
   "metadata": {},
   "source": [
    "call run_naive_bayes function with the appropriate inputs"
   ]
  },
  {
   "cell_type": "code",
   "execution_count": 37,
   "metadata": {},
   "outputs": [],
   "source": [
    "#your code here\n",
    "a, b =run_naive_bayes(freq_dark,numcount,tiv)\n",
    "\n",
    "#your code here\n",
    "#readData from testlabels.txt and convert them to integer labels then output how much percentage of labels match with Predictions array\n",
    "testlabels = readData(\"testlabels.txt\")"
   ]
  },
  {
   "cell_type": "markdown",
   "metadata": {},
   "source": [
    "readData from testlabels.txt and convert them to integer labels then output how much percentage of labels match with Predictions array"
   ]
  },
  {
   "cell_type": "code",
   "execution_count": 38,
   "metadata": {},
   "outputs": [
    {
     "name": "stdout",
     "output_type": "stream",
     "text": [
      "0.756\n"
     ]
    }
   ],
   "source": [
    "#your code here\n",
    "correct = 0\n",
    "for n in range(len(testlabels)) :\n",
    "    if b[n] == int(testlabels[n]) :\n",
    "        correct += 1\n",
    "print(str(float(correct) / len(testlabels)))"
   ]
  }
 ],
 "metadata": {
  "kernelspec": {
   "display_name": "Python 3.6",
   "language": "python",
   "name": "python36"
  },
  "language_info": {
   "codemirror_mode": {
    "name": "ipython",
    "version": 3
   },
   "file_extension": ".py",
   "mimetype": "text/x-python",
   "name": "python",
   "nbconvert_exporter": "python",
   "pygments_lexer": "ipython3",
   "version": "3.6.3"
  }
 },
 "nbformat": 4,
 "nbformat_minor": 2
}
